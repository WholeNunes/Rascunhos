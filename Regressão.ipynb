{
  "cells": [
    {
      "cell_type": "markdown",
      "metadata": {
        "id": "view-in-github",
        "colab_type": "text"
      },
      "source": [
        "<a href=\"https://colab.research.google.com/github/WholeNunes/Rascunhos/blob/main/Regress%C3%A3o.ipynb\" target=\"_parent\"><img src=\"https://colab.research.google.com/assets/colab-badge.svg\" alt=\"Open In Colab\"/></a>"
      ]
    },
    {
      "cell_type": "markdown",
      "source": [
        "###**Regressão**"
      ],
      "metadata": {
        "id": "FZzO1OiTWukP"
      }
    },
    {
      "cell_type": "code",
      "source": [
        "import numpy as np\n",
        "import pandas as pd\n",
        "import matplotlib.pyplot as plt\n"
      ],
      "metadata": {
        "id": "3y8ntSooWxca"
      },
      "execution_count": 2,
      "outputs": []
    },
    {
      "cell_type": "code",
      "source": [
        "temperatura = np.array([30, 25, 36, 18, 25, 29, 30, 33, 37, 31, 26, 37, 29, 26, 30, 31, 34, 38])"
      ],
      "metadata": {
        "id": "6iVKxxxLXY7W"
      },
      "execution_count": 3,
      "outputs": []
    },
    {
      "cell_type": "code",
      "source": [
        "numero_sorvetes = np.array([20, 12, 50, 10, 18, 25, 26, 32, 48, 22, 16, 52, 24, 20, 28, 29, 35, 40])"
      ],
      "metadata": {
        "id": "Ky7Vw61TXygW"
      },
      "execution_count": 4,
      "outputs": []
    },
    {
      "cell_type": "code",
      "source": [
        "df = pd.DataFrame({'temperatura': temperatura , 'numero_sorvetes': numero_sorvetes})"
      ],
      "metadata": {
        "id": "gtBez0ITYHTc"
      },
      "execution_count": 6,
      "outputs": []
    },
    {
      "cell_type": "code",
      "source": [
        "df.head()"
      ],
      "metadata": {
        "id": "afVbBbvYYf9d",
        "outputId": "420f6ec2-dd47-4349-f69c-ed90d19504ea",
        "colab": {
          "base_uri": "https://localhost:8080/",
          "height": 206
        }
      },
      "execution_count": 7,
      "outputs": [
        {
          "output_type": "execute_result",
          "data": {
            "text/html": [
              "<div>\n",
              "<style scoped>\n",
              "    .dataframe tbody tr th:only-of-type {\n",
              "        vertical-align: middle;\n",
              "    }\n",
              "\n",
              "    .dataframe tbody tr th {\n",
              "        vertical-align: top;\n",
              "    }\n",
              "\n",
              "    .dataframe thead th {\n",
              "        text-align: right;\n",
              "    }\n",
              "</style>\n",
              "<table border=\"1\" class=\"dataframe\">\n",
              "  <thead>\n",
              "    <tr style=\"text-align: right;\">\n",
              "      <th></th>\n",
              "      <th>temperatura</th>\n",
              "      <th>numero_sorvetes</th>\n",
              "    </tr>\n",
              "  </thead>\n",
              "  <tbody>\n",
              "    <tr>\n",
              "      <th>0</th>\n",
              "      <td>30</td>\n",
              "      <td>20</td>\n",
              "    </tr>\n",
              "    <tr>\n",
              "      <th>1</th>\n",
              "      <td>25</td>\n",
              "      <td>12</td>\n",
              "    </tr>\n",
              "    <tr>\n",
              "      <th>2</th>\n",
              "      <td>36</td>\n",
              "      <td>50</td>\n",
              "    </tr>\n",
              "    <tr>\n",
              "      <th>3</th>\n",
              "      <td>18</td>\n",
              "      <td>10</td>\n",
              "    </tr>\n",
              "    <tr>\n",
              "      <th>4</th>\n",
              "      <td>25</td>\n",
              "      <td>18</td>\n",
              "    </tr>\n",
              "  </tbody>\n",
              "</table>\n",
              "</div>"
            ],
            "text/plain": [
              "   temperatura  numero_sorvetes\n",
              "0           30               20\n",
              "1           25               12\n",
              "2           36               50\n",
              "3           18               10\n",
              "4           25               18"
            ]
          },
          "metadata": {},
          "execution_count": 7
        }
      ]
    },
    {
      "cell_type": "markdown",
      "source": [
        "Gerando gráficos"
      ],
      "metadata": {
        "id": "dx_YUdS6YlgU"
      }
    },
    {
      "cell_type": "code",
      "source": [
        "plt.plot(df['temperatura'], df['numero_sorvetes'], '*')\n",
        "plt.xlabel('Temperaturas')\n",
        "plt.ylabel('Sorvetes')\n",
        "plt.show()"
      ],
      "metadata": {
        "id": "WCh8cbpgYnRq",
        "outputId": "c754e75b-c919-4615-9c57-a3cdabe1baa7",
        "colab": {
          "base_uri": "https://localhost:8080/",
          "height": 279
        }
      },
      "execution_count": 9,
      "outputs": [
        {
          "output_type": "display_data",
          "data": {
            "image/png": "[encoded data removed]",
            "text/plain": [
              "<Figure size 432x288 with 1 Axes>"
            ]
          },
          "metadata": {
            "needs_background": "light"
          }
        }
      ]
    },
    {
      "cell_type": "markdown",
      "source": [
        "Variáveis depedentes e não dependentes"
      ],
      "metadata": {
        "id": "TQxiLgEyaZlX"
      }
    },
    {
      "cell_type": "code",
      "source": [
        "x = df['temperatura'].to_numpy()\n",
        "y = df['numero_sorvetes'].to_numpy()\n",
        "from sklearn.model_selection import train_test_split"
      ],
      "metadata": {
        "id": "LnlsnwxcZmn2"
      },
      "execution_count": 19,
      "outputs": []
    },
    {
      "cell_type": "code",
      "source": [
        "x_treino, x_teste, y_treino, y_teste = train_test_split(x, y, test_size=0.2)"
      ],
      "metadata": {
        "id": "SWm2YTkyZ6N8"
      },
      "execution_count": 11,
      "outputs": []
    },
    {
      "cell_type": "markdown",
      "source": [
        "#Treinando o modelo"
      ],
      "metadata": {
        "id": "2tlRuuJSake1"
      }
    },
    {
      "cell_type": "code",
      "source": [
        "from sklearn.linear_model import LinearRegression"
      ],
      "metadata": {
        "id": "6Vnfh-U5am6r"
      },
      "execution_count": 13,
      "outputs": []
    },
    {
      "cell_type": "code",
      "source": [
        "#definir um modelo de regressão\n",
        "modelo = LinearRegression()\n",
        "\n",
        "#treina o modelo com os dados de treino\n",
        "modelo.fit(x_treino.reshape(-1, 1), y_treino.reshape(-1, 1))"
      ],
      "metadata": {
        "id": "GaTJ3fVsa2M4",
        "outputId": "99d5279f-5341-4652-94c1-ddabc27d607d",
        "colab": {
          "base_uri": "https://localhost:8080/"
        }
      },
      "execution_count": 14,
      "outputs": [
        {
          "output_type": "execute_result",
          "data": {
            "text/plain": [
              "LinearRegression()"
            ]
          },
          "metadata": {},
          "execution_count": 14
        }
      ]
    },
    {
      "cell_type": "markdown",
      "source": [
        "#Previsão"
      ],
      "metadata": {
        "id": "2cCVpXO6byqu"
      }
    },
    {
      "cell_type": "code",
      "source": [
        "#previsão de preços do modelo\n",
        "y_previsto = modelo.predict(x_teste.reshape(-1, 1))"
      ],
      "metadata": {
        "id": "IMmzgH5Gb3A1"
      },
      "execution_count": 16,
      "outputs": []
    },
    {
      "cell_type": "code",
      "source": [
        "plt.plot(range(y_previsto.shape[0]), y_previsto, 'r--')\n",
        "plt.plot(range(y_teste.shape[0]), y_teste, 'g--')\n",
        "plt.legend(['Sorvetes previstos' , 'Sorvetes vendidos'])\n",
        "plt.xlabel('Índice')\n",
        "plt.ylabel('Sorvetes')\n",
        "plt.show()"
      ],
      "metadata": {
        "id": "PSjGF8Tsb6hy",
        "outputId": "7230887e-5ac3-447b-be7f-cbfdd7ee725b",
        "colab": {
          "base_uri": "https://localhost:8080/",
          "height": 279
        }
      },
      "execution_count": 23,
      "outputs": [
        {
          "output_type": "display_data",
          "data": {
            "image/png": "[encoded data removed]",
            "text/plain": [
              "<Figure size 432x288 with 1 Axes>"
            ]
          },
          "metadata": {
            "needs_background": "light"
          }
        }
      ]
    }
  ],
  "metadata": {
    "colab": {
      "collapsed_sections": [],
      "name": "Olá, este é o Colaboratory",
      "toc_visible": true,
      "provenance": [],
      "include_colab_link": true
    },
    "kernelspec": {
      "display_name": "Python 3",
      "name": "python3"
    }
  },
  "nbformat": 4,
  "nbformat_minor": 0
}