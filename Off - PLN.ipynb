{
 "cells": [
  {
   "cell_type": "markdown",
   "metadata": {},
   "source": [
    "### Bibliotecas necessárias"
   ]
  },
  {
   "cell_type": "code",
   "execution_count": 1,
   "metadata": {},
   "outputs": [
    {
     "name": "stdout",
     "output_type": "stream",
     "text": [
      "Requirement already satisfied: nltk in c:\\users\\super\\anaconda3\\lib\\site-packages (3.6.5)\n",
      "Requirement already satisfied: click in c:\\users\\super\\anaconda3\\lib\\site-packages (from nltk) (8.0.3)\n",
      "Requirement already satisfied: joblib in c:\\users\\super\\anaconda3\\lib\\site-packages (from nltk) (1.1.0)\n",
      "Requirement already satisfied: regex>=2021.8.3 in c:\\users\\super\\anaconda3\\lib\\site-packages (from nltk) (2021.8.3)\n",
      "Requirement already satisfied: tqdm in c:\\users\\super\\anaconda3\\lib\\site-packages (from nltk) (4.62.3)\n",
      "Requirement already satisfied: colorama in c:\\users\\super\\anaconda3\\lib\\site-packages (from click->nltk) (0.4.4)\n"
     ]
    }
   ],
   "source": [
    "! pip install nltk"
   ]
  },
  {
   "cell_type": "code",
   "execution_count": 2,
   "metadata": {},
   "outputs": [],
   "source": [
    "import nltk\n",
    "from sklearn.feature_extraction.text import TfidfVectorizer\n",
    "import pandas as pd"
   ]
  },
  {
   "cell_type": "markdown",
   "metadata": {},
   "source": [
    "### Pacotes necessários"
   ]
  },
  {
   "cell_type": "code",
   "execution_count": 3,
   "metadata": {},
   "outputs": [
    {
     "name": "stderr",
     "output_type": "stream",
     "text": [
      "[nltk_data] Downloading package stopwords to\n",
      "[nltk_data]     C:\\Users\\super\\AppData\\Roaming\\nltk_data...\n",
      "[nltk_data]   Package stopwords is already up-to-date!\n",
      "[nltk_data] Downloading package punkt to\n",
      "[nltk_data]     C:\\Users\\super\\AppData\\Roaming\\nltk_data...\n",
      "[nltk_data]   Package punkt is already up-to-date!\n"
     ]
    },
    {
     "data": {
      "text/plain": [
       "True"
      ]
     },
     "execution_count": 3,
     "metadata": {},
     "output_type": "execute_result"
    }
   ],
   "source": [
    "nltk.download('stopwords')\n",
    "nltk.download('punkt')"
   ]
  },
  {
   "cell_type": "markdown",
   "metadata": {},
   "source": [
    "Use a variável texto a seguir para identificar as stop words\n",
    "e após isso aplique o cáculo do **TF-IDF** neste mesmo texto e observe os scores."
   ]
  },
  {
   "cell_type": "markdown",
   "metadata": {},
   "source": [
    "**OBS:** Para realizar essa tarefa utilize os módulos estudados na aula"
   ]
  },
  {
   "cell_type": "code",
   "execution_count": 5,
   "metadata": {},
   "outputs": [],
   "source": [
    "texto = 'Um carro azul seguia rapidamente em uma rodovia, e ao passar por um buraco, o carro furou o pneu, e o motorista desceu do carro azul'"
   ]
  },
  {
   "cell_type": "code",
   "execution_count": 7,
   "metadata": {},
   "outputs": [],
   "source": [
    "tf_idf = TfidfVectorizer()"
   ]
  },
  {
   "cell_type": "code",
   "execution_count": 8,
   "metadata": {},
   "outputs": [
    {
     "name": "stdout",
     "output_type": "stream",
     "text": [
      "  (0, 5)\t0.1796053020267749\n",
      "  (0, 4)\t0.1796053020267749\n",
      "  (0, 8)\t0.1796053020267749\n",
      "  (0, 10)\t0.1796053020267749\n",
      "  (0, 7)\t0.1796053020267749\n",
      "  (0, 2)\t0.1796053020267749\n",
      "  (0, 11)\t0.1796053020267749\n",
      "  (0, 9)\t0.1796053020267749\n",
      "  (0, 0)\t0.1796053020267749\n",
      "  (0, 13)\t0.1796053020267749\n",
      "  (0, 16)\t0.1796053020267749\n",
      "  (0, 6)\t0.1796053020267749\n",
      "  (0, 12)\t0.1796053020267749\n",
      "  (0, 14)\t0.1796053020267749\n",
      "  (0, 1)\t0.3592106040535498\n",
      "  (0, 3)\t0.5388159060803247\n",
      "  (0, 15)\t0.3592106040535498\n"
     ]
    }
   ],
   "source": [
    "vetor = tf_idf.fit_transform([texto])\n",
    "print(vetor)"
   ]
  },
  {
   "cell_type": "code",
   "execution_count": 9,
   "metadata": {},
   "outputs": [
    {
     "name": "stdout",
     "output_type": "stream",
     "text": [
      "[[0.1796053  0.3592106  0.1796053  0.53881591 0.1796053  0.1796053\n",
      "  0.1796053  0.1796053  0.1796053  0.1796053  0.1796053  0.1796053\n",
      "  0.1796053  0.1796053  0.1796053  0.3592106  0.1796053 ]]\n"
     ]
    }
   ],
   "source": [
    "vetor = vetor.todense()\n",
    "print(vetor)"
   ]
  },
  {
   "cell_type": "code",
   "execution_count": 10,
   "metadata": {},
   "outputs": [
    {
     "name": "stdout",
     "output_type": "stream",
     "text": [
      "['ao', 'azul', 'buraco', 'carro', 'desceu', 'do', 'em', 'furou', 'motorista', 'passar', 'pneu', 'por', 'rapidamente', 'rodovia', 'seguia', 'um', 'uma']\n"
     ]
    }
   ],
   "source": [
    "nomes = tf_idf.get_feature_names()\n",
    "print(nomes)"
   ]
  },
  {
   "cell_type": "code",
   "execution_count": 11,
   "metadata": {},
   "outputs": [
    {
     "name": "stdout",
     "output_type": "stream",
     "text": [
      "         ao      azul    buraco     carro    desceu        do        em  \\\n",
      "0  0.179605  0.359211  0.179605  0.538816  0.179605  0.179605  0.179605   \n",
      "\n",
      "      furou  motorista    passar      pneu       por  rapidamente   rodovia  \\\n",
      "0  0.179605   0.179605  0.179605  0.179605  0.179605     0.179605  0.179605   \n",
      "\n",
      "     seguia        um       uma  \n",
      "0  0.179605  0.359211  0.179605  \n"
     ]
    }
   ],
   "source": [
    "df = pd.DataFrame(vetor, columns=nomes)\n",
    "print(df)"
   ]
  },
  {
   "cell_type": "code",
   "execution_count": 12,
   "metadata": {},
   "outputs": [],
   "source": [
    "##A palavra com maior score é: \"carro\""
   ]
  },
  {
   "cell_type": "code",
   "execution_count": null,
   "metadata": {},
   "outputs": [],
   "source": []
  }
 ],
 "metadata": {
  "kernelspec": {
   "display_name": "Python 3 (ipykernel)",
   "language": "python",
   "name": "python3"
  },
  "language_info": {
   "codemirror_mode": {
    "name": "ipython",
    "version": 3
   },
   "file_extension": ".py",
   "mimetype": "text/x-python",
   "name": "python",
   "nbconvert_exporter": "python",
   "pygments_lexer": "ipython3",
   "version": "3.9.7"
  }
 },
 "nbformat": 4,
 "nbformat_minor": 4
}
