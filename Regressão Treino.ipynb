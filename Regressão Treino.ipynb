{
  "nbformat": 4,
  "nbformat_minor": 0,
  "metadata": {
    "colab": {
      "name": "Untitled1.ipynb",
      "provenance": [],
      "toc_visible": true,
      "authorship_tag": "ABX9TyNoTmjzoP75qrShtx3ZS7ng",
      "include_colab_link": true
    },
    "kernelspec": {
      "name": "python3",
      "display_name": "Python 3"
    },
    "language_info": {
      "name": "python"
    }
  },
  "cells": [
    {
      "cell_type": "markdown",
      "metadata": {
        "id": "view-in-github",
        "colab_type": "text"
      },
      "source": [
        "<a href=\"https://colab.research.google.com/github/WholeNunes/Rascunhos/blob/main/Regress%C3%A3o%20Treino.ipynb\" target=\"_parent\"><img src=\"https://colab.research.google.com/assets/colab-badge.svg\" alt=\"Open In Colab\"/></a>"
      ]
    },
    {
      "cell_type": "markdown",
      "source": [
        "#Regressão Treino"
      ],
      "metadata": {
        "id": "kwT9QGA5fde7"
      }
    },
    {
      "cell_type": "code",
      "source": [
        "import pandas as pd\n",
        "import numpy as np\n",
        "import matplotlib.pyplot as plt"
      ],
      "metadata": {
        "id": "udj8EoQafgg1"
      },
      "execution_count": 1,
      "outputs": []
    },
    {
      "cell_type": "code",
      "source": [
        "df = pd.read_csv('car_data.csv')"
      ],
      "metadata": {
        "id": "Cw9GbSwPftz8"
      },
      "execution_count": 19,
      "outputs": []
    },
    {
      "cell_type": "code",
      "source": [
        "print(df.shape)"
      ],
      "metadata": {
        "colab": {
          "base_uri": "https://localhost:8080/"
        },
        "id": "TYOXfdTQgJyE",
        "outputId": "9cad2c29-9317-470d-f880-b4c16f42cb06"
      },
      "execution_count": 4,
      "outputs": [
        {
          "output_type": "stream",
          "name": "stdout",
          "text": [
            "(301, 9)\n"
          ]
        }
      ]
    },
    {
      "cell_type": "markdown",
      "source": [
        "Para seguir com a criação da regressão, é preciso substituir os dados de textos por números.\n",
        "Gasolina, Diesel ou GasNatural (0, 1, 2) //\n",
        "Revendedor, Individual(0, 1) // \n",
        "Manual, Automatico(0, 1).\n"
      ],
      "metadata": {
        "id": "iV5oFSLVgaUU"
      }
    },
    {
      "cell_type": "code",
      "source": [
        "df['tipo_transmissao'].replace({'Manual': 0, 'Automatico': 1}, inplace=True)\n",
        "df['tipo_vendedor'].replace({'Revendedor': 0, 'Individual': 1}, inplace=True)\n",
        "df['tipo_combustivel'].replace({'Gasolina': 0, 'Diesel': 1, 'GasNatural': 2}, inplace=True)\n",
        "df.head()"
      ],
      "metadata": {
        "colab": {
          "base_uri": "https://localhost:8080/",
          "height": 226
        },
        "id": "XlY4DvaPg2M8",
        "outputId": "c127bc88-36a8-4a5f-ed6d-c495bd10431e"
      },
      "execution_count": 20,
      "outputs": [
        {
          "output_type": "execute_result",
          "data": {
            "text/html": [
              "<div>\n",
              "<style scoped>\n",
              "    .dataframe tbody tr th:only-of-type {\n",
              "        vertical-align: middle;\n",
              "    }\n",
              "\n",
              "    .dataframe tbody tr th {\n",
              "        vertical-align: top;\n",
              "    }\n",
              "\n",
              "    .dataframe thead th {\n",
              "        text-align: right;\n",
              "    }\n",
              "</style>\n",
              "<table border=\"1\" class=\"dataframe\">\n",
              "  <thead>\n",
              "    <tr style=\"text-align: right;\">\n",
              "      <th></th>\n",
              "      <th>nome_carro</th>\n",
              "      <th>ano</th>\n",
              "      <th>preco_venda</th>\n",
              "      <th>preco_atual</th>\n",
              "      <th>kms_rodados</th>\n",
              "      <th>tipo_combustivel</th>\n",
              "      <th>tipo_vendedor</th>\n",
              "      <th>tipo_transmissao</th>\n",
              "      <th>n_donos</th>\n",
              "    </tr>\n",
              "  </thead>\n",
              "  <tbody>\n",
              "    <tr>\n",
              "      <th>0</th>\n",
              "      <td>ritz</td>\n",
              "      <td>2014</td>\n",
              "      <td>3.35</td>\n",
              "      <td>5.59</td>\n",
              "      <td>27000</td>\n",
              "      <td>0</td>\n",
              "      <td>0</td>\n",
              "      <td>0</td>\n",
              "      <td>0</td>\n",
              "    </tr>\n",
              "    <tr>\n",
              "      <th>1</th>\n",
              "      <td>sx4</td>\n",
              "      <td>2013</td>\n",
              "      <td>4.75</td>\n",
              "      <td>9.54</td>\n",
              "      <td>43000</td>\n",
              "      <td>1</td>\n",
              "      <td>0</td>\n",
              "      <td>0</td>\n",
              "      <td>0</td>\n",
              "    </tr>\n",
              "    <tr>\n",
              "      <th>2</th>\n",
              "      <td>ciaz</td>\n",
              "      <td>2017</td>\n",
              "      <td>7.25</td>\n",
              "      <td>9.85</td>\n",
              "      <td>6900</td>\n",
              "      <td>0</td>\n",
              "      <td>0</td>\n",
              "      <td>0</td>\n",
              "      <td>0</td>\n",
              "    </tr>\n",
              "    <tr>\n",
              "      <th>3</th>\n",
              "      <td>wagon r</td>\n",
              "      <td>2011</td>\n",
              "      <td>2.85</td>\n",
              "      <td>4.15</td>\n",
              "      <td>5200</td>\n",
              "      <td>0</td>\n",
              "      <td>0</td>\n",
              "      <td>0</td>\n",
              "      <td>0</td>\n",
              "    </tr>\n",
              "    <tr>\n",
              "      <th>4</th>\n",
              "      <td>swift</td>\n",
              "      <td>2014</td>\n",
              "      <td>4.60</td>\n",
              "      <td>6.87</td>\n",
              "      <td>42450</td>\n",
              "      <td>1</td>\n",
              "      <td>0</td>\n",
              "      <td>0</td>\n",
              "      <td>0</td>\n",
              "    </tr>\n",
              "  </tbody>\n",
              "</table>\n",
              "</div>"
            ],
            "text/plain": [
              "  nome_carro   ano  preco_venda  ...  tipo_vendedor  tipo_transmissao  n_donos\n",
              "0       ritz  2014         3.35  ...              0                 0        0\n",
              "1        sx4  2013         4.75  ...              0                 0        0\n",
              "2       ciaz  2017         7.25  ...              0                 0        0\n",
              "3    wagon r  2011         2.85  ...              0                 0        0\n",
              "4      swift  2014         4.60  ...              0                 0        0\n",
              "\n",
              "[5 rows x 9 columns]"
            ]
          },
          "metadata": {},
          "execution_count": 20
        }
      ]
    },
    {
      "cell_type": "markdown",
      "source": [
        "Criando grafico para visualização das variaveis "
      ],
      "metadata": {
        "id": "pt5jOVaKi5hr"
      }
    },
    {
      "cell_type": "code",
      "source": [
        "plt.scatter(df['ano'], df['preco_venda'],  color='blue')\n",
        "plt.xlabel(\"Ano do Carro\")\n",
        "plt.ylabel(\"Preço de venda\")\n",
        "plt.show()"
      ],
      "metadata": {
        "colab": {
          "base_uri": "https://localhost:8080/",
          "height": 279
        },
        "id": "7upTZTwVh89p",
        "outputId": "8ec4c6bc-53e1-479a-9eb5-f60043745c86"
      },
      "execution_count": 21,
      "outputs": [
        {
          "output_type": "display_data",
          "data": {
            "image/png": "[encoded data removed]",
            "text/plain": [
              "<Figure size 432x288 with 1 Axes>"
            ]
          },
          "metadata": {
            "needs_background": "light"
          }
        }
      ]
    },
    {
      "cell_type": "code",
      "source": [
        "plt.scatter(df['ano'], df['kms_rodados'],  color='red')\n",
        "plt.xlabel(\"Ano do Carro\")\n",
        "plt.ylabel(\"Kms Rodados\")\n",
        "plt.show()"
      ],
      "metadata": {
        "colab": {
          "base_uri": "https://localhost:8080/",
          "height": 279
        },
        "id": "wPUdByKfiIGe",
        "outputId": "93784207-2b8b-4251-c595-58201adb2767"
      },
      "execution_count": 22,
      "outputs": [
        {
          "output_type": "display_data",
          "data": {
            "image/png": "[encoded data removed]",
            "text/plain": [
              "<Figure size 432x288 with 1 Axes>"
            ]
          },
          "metadata": {
            "needs_background": "light"
          }
        }
      ]
    },
    {
      "cell_type": "markdown",
      "source": [
        "Separando variaveis dependentes e idenpendente "
      ],
      "metadata": {
        "id": "jFJS0k9Wi9Kk"
      }
    },
    {
      "cell_type": "code",
      "source": [
        "#x -> dependente\n",
        "#y -> independente\n",
        "x = df[['ano', 'preco_atual', 'kms_rodados', 'tipo_combustivel', 'tipo_vendedor', 'tipo_transmissao', 'n_donos']]\n",
        "y = df[['preco_venda']]"
      ],
      "metadata": {
        "id": "IfkrchFPjA8L"
      },
      "execution_count": 37,
      "outputs": []
    },
    {
      "cell_type": "markdown",
      "source": [
        "Usarei para criação do modelo 80% dos dados para treino e 20% para teste."
      ],
      "metadata": {
        "id": "ncD4L-w1jRPe"
      }
    },
    {
      "cell_type": "code",
      "source": [
        "from sklearn.model_selection import train_test_split\n",
        "x_treino, x_teste, y_treino, y_teste = train_test_split(x, y, test_size=0.2)"
      ],
      "metadata": {
        "id": "yu4DMIa1jXEi"
      },
      "execution_count": 38,
      "outputs": []
    },
    {
      "cell_type": "markdown",
      "source": [
        "**x_treino** é a parte usada para treinar o algoritmo\n",
        "\n",
        "**x_teste** é a parte usada para testar o algoritmo depois de treinado\n",
        "\n",
        "**y_treino** é a parte das respostas usadas no treino\n",
        "\n",
        "**y_teste** é a parte das respostas usadas para testar o algoritmo"
      ],
      "metadata": {
        "id": "zQW9pZzLjj2M"
      }
    },
    {
      "cell_type": "code",
      "source": [
        "print('Treino')\n",
        "print(\"x_train: \",x_treino.shape)\n",
        "print(\"y_train: \",y_treino.shape)\n",
        "\n",
        "print('\\nTeste')\n",
        "print(\"x_test: \",x_teste.shape)\n",
        "print(\"y_test: \",y_teste.shape)"
      ],
      "metadata": {
        "colab": {
          "base_uri": "https://localhost:8080/"
        },
        "id": "ovDBCe_OjkvW",
        "outputId": "e6b2655c-0b52-4bca-938e-3cd9de1d1d1f"
      },
      "execution_count": 39,
      "outputs": [
        {
          "output_type": "stream",
          "name": "stdout",
          "text": [
            "Treino\n",
            "x_train:  (240, 7)\n",
            "y_train:  (240, 1)\n",
            "\n",
            "Teste\n",
            "x_test:  (61, 7)\n",
            "y_test:  (61, 1)\n"
          ]
        }
      ]
    },
    {
      "cell_type": "markdown",
      "source": [
        "Treinando o modelo"
      ],
      "metadata": {
        "id": "U4E49E-0j6gt"
      }
    },
    {
      "cell_type": "code",
      "source": [
        "from sklearn.linear_model import LinearRegression\n",
        "modelo = LinearRegression()\n",
        "\n",
        "modelo.fit(x_treino, y_treino)\n"
      ],
      "metadata": {
        "colab": {
          "base_uri": "https://localhost:8080/"
        },
        "id": "tLYmqO_gj7dn",
        "outputId": "d7c22255-14b2-4473-e622-ad46ea549341"
      },
      "execution_count": 40,
      "outputs": [
        {
          "output_type": "execute_result",
          "data": {
            "text/plain": [
              "LinearRegression()"
            ]
          },
          "metadata": {},
          "execution_count": 40
        }
      ]
    },
    {
      "cell_type": "code",
      "source": [
        "#Previsão dos preços --> y_prev\n",
        "y_prev = modelo.predict(x_teste)"
      ],
      "metadata": {
        "id": "FtTXLh-akSoT"
      },
      "execution_count": 43,
      "outputs": []
    },
    {
      "cell_type": "code",
      "source": [
        "print(y_prev.shape)\n",
        "print(y_teste.shape)\n"
      ],
      "metadata": {
        "colab": {
          "base_uri": "https://localhost:8080/"
        },
        "id": "F3iiD0drksq9",
        "outputId": "40ad44db-921f-4c45-9cd0-60082d483435"
      },
      "execution_count": 44,
      "outputs": [
        {
          "output_type": "stream",
          "name": "stdout",
          "text": [
            "(61, 1)\n",
            "(61, 1)\n"
          ]
        }
      ]
    },
    {
      "cell_type": "code",
      "source": [
        "plt.plot(range(y_prev.shape[0]), y_prev,'r--')\n",
        "plt.plot(range(y_teste.shape[0]), y_teste,'g--')\n",
        "plt.legend(['preço previsto', 'preço real'])\n",
        "plt.ylabel('Preço')\n",
        "plt.xlabel('Índice')\n",
        "plt.show()"
      ],
      "metadata": {
        "colab": {
          "base_uri": "https://localhost:8080/",
          "height": 279
        },
        "id": "6Oc3lH0hm-1s",
        "outputId": "f22ec3df-fd0a-4ac3-dc65-cad0e7af4b5e"
      },
      "execution_count": 45,
      "outputs": [
        {
          "output_type": "display_data",
          "data": {
            "image/png": "[encoded data removed]",
            "text/plain": [
              "<Figure size 432x288 with 1 Axes>"
            ]
          },
          "metadata": {
            "needs_background": "light"
          }
        }
      ]
    },
    {
      "cell_type": "markdown",
      "source": [
        "Agora para saber o percentual de acertos do projeto"
      ],
      "metadata": {
        "id": "bdKn9eZcntPJ"
      }
    },
    {
      "cell_type": "code",
      "source": [
        "from sklearn.metrics import r2_score\n",
        "\n",
        "print('R2-score: ', r2_score(y_teste, y_prev))"
      ],
      "metadata": {
        "colab": {
          "base_uri": "https://localhost:8080/"
        },
        "id": "MUDO7YjMnfRy",
        "outputId": "284d7bc2-9ff2-4497-a909-4401c74ee741"
      },
      "execution_count": 46,
      "outputs": [
        {
          "output_type": "stream",
          "name": "stdout",
          "text": [
            "R2-score:  0.7254296930986064\n"
          ]
        }
      ]
    },
    {
      "cell_type": "markdown",
      "source": [
        "Taxa de uma possível previsão correta é de 72,54%."
      ],
      "metadata": {
        "id": "NEJ9rgJjn6Cz"
      }
    },
    {
      "cell_type": "markdown",
      "source": [
        "#Regressão - Prática solo"
      ],
      "metadata": {
        "id": "Zb7ENHs_oJU9"
      }
    },
    {
      "cell_type": "code",
      "source": [
        "new_x = df[['ano', 'preco_atual', 'kms_rodados', 'tipo_combustivel']]\n",
        "new_y = df[['preco_venda']]\n",
        "\n",
        "x_tr, x_te, y_tr, y_te = train_test_split(new_x, new_y, test_size=0.2)"
      ],
      "metadata": {
        "id": "IWJIOhW1oMT6"
      },
      "execution_count": 47,
      "outputs": []
    },
    {
      "cell_type": "markdown",
      "source": [
        "Criado os novos dados para a nova previsão\n",
        "x_tr = x_treino\n",
        "x_te = x_teste\n",
        "y_tr = x_treino\n",
        "y_te = y_teste"
      ],
      "metadata": {
        "id": "PaZkPBbXp4FE"
      }
    },
    {
      "cell_type": "code",
      "source": [
        "pro = LinearRegression()\n",
        "pro.fit(x_tr, y_tr)\n",
        "\n",
        "y_previsao = pro.predict(x_te)"
      ],
      "metadata": {
        "id": "5ka8wY6DpM4L"
      },
      "execution_count": 50,
      "outputs": []
    },
    {
      "cell_type": "code",
      "source": [
        "plt.plot(range(y_previsao.shape[0]), y_previsao,'r--')\n",
        "plt.plot(range(y_te.shape[0]), y_te,'g--')\n",
        "plt.legend(['preço previsto', 'preço real'])\n",
        "plt.ylabel('Preço')\n",
        "plt.xlabel('Índice')\n",
        "plt.show()"
      ],
      "metadata": {
        "colab": {
          "base_uri": "https://localhost:8080/",
          "height": 279
        },
        "id": "eRi9AB-jqT9O",
        "outputId": "bb4ee071-49d0-4d57-bd8a-ef551193fb8d"
      },
      "execution_count": 51,
      "outputs": [
        {
          "output_type": "display_data",
          "data": {
            "image/png": "[encoded data removed]",
            "text/plain": [
              "<Figure size 432x288 with 1 Axes>"
            ]
          },
          "metadata": {
            "needs_background": "light"
          }
        }
      ]
    },
    {
      "cell_type": "code",
      "source": [
        "#Para saber a nova porcentagem do modelo:\n",
        "print('R2-score: ', r2_score(y_te, y_previsao))"
      ],
      "metadata": {
        "colab": {
          "base_uri": "https://localhost:8080/"
        },
        "id": "TGRepxQ2qkaU",
        "outputId": "8c2191c5-4fce-4a66-ed96-0219c4e473f7"
      },
      "execution_count": 52,
      "outputs": [
        {
          "output_type": "stream",
          "name": "stdout",
          "text": [
            "R2-score:  0.8850092753765711\n"
          ]
        }
      ]
    },
    {
      "cell_type": "markdown",
      "source": [
        "**A porcentagem é maior do que o modelo anterior, cerca de 88,5%**"
      ],
      "metadata": {
        "id": "MPd4DMxgqt30"
      }
    }
  ]
}